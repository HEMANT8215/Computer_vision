{
 "cells": [
  {
   "cell_type": "markdown",
   "metadata": {},
   "source": [
    "# 1. Import Dependencies"
   ]
  },
  {
   "cell_type": "code",
   "execution_count": 8,
   "metadata": {},
   "outputs": [
    {
     "name": "stdout",
     "output_type": "stream",
     "text": [
      "Requirement already satisfied: opencv-python in /Users/hemant./opt/anaconda3/lib/python3.8/site-packages (4.5.3.56)\n",
      "Requirement already satisfied: numpy>=1.17.3 in /Users/hemant./opt/anaconda3/lib/python3.8/site-packages (from opencv-python) (1.19.5)\n",
      "\u001b[33mWARNING: You are using pip version 21.1.2; however, version 21.1.3 is available.\n",
      "You should consider upgrading via the '/Users/hemant./opt/anaconda3/bin/python -m pip install --upgrade pip' command.\u001b[0m\n"
     ]
    }
   ],
   "source": [
    "!pip install opencv-python"
   ]
  },
  {
   "cell_type": "code",
   "execution_count": 9,
   "metadata": {},
   "outputs": [],
   "source": [
    "#Import opencv\n",
    "import cv2 \n",
    "\n",
    "# Import uuid\n",
    "import uuid\n",
    "\n",
    "# Import Operating System\n",
    "import os\n",
    "\n",
    "# Import time\n",
    "import time"
   ]
  },
  {
   "cell_type": "markdown",
   "metadata": {},
   "source": [
    "# 2. Define Images to Collect"
   ]
  },
  {
   "cell_type": "code",
   "execution_count": 10,
   "metadata": {},
   "outputs": [],
   "source": [
    "labels = ['up', 'down', 'left', 'right']\n",
    "number_imgs = 5"
   ]
  },
  {
   "cell_type": "markdown",
   "metadata": {},
   "source": [
    "# 3. Setup Folders "
   ]
  },
  {
   "cell_type": "code",
   "execution_count": 11,
   "metadata": {},
   "outputs": [],
   "source": [
    "IMAGES_PATH = os.path.join('Tensorflow', 'workspace', 'images', 'collectedimages')"
   ]
  },
  {
   "cell_type": "code",
   "execution_count": 12,
   "metadata": {},
   "outputs": [],
   "source": [
    "if not os.path.exists(IMAGES_PATH):\n",
    "    if os.name == 'posix':\n",
    "        !mkdir -p {IMAGES_PATH}\n",
    "    if os.name == 'nt':\n",
    "         !mkdir {IMAGES_PATH}\n",
    "for label in labels:\n",
    "    path = os.path.join(IMAGES_PATH, label)\n",
    "    if not os.path.exists(path):\n",
    "        !mkdir {path}"
   ]
  },
  {
   "cell_type": "markdown",
   "metadata": {},
   "source": [
    "# 4. Capture Images"
   ]
  },
  {
   "cell_type": "code",
   "execution_count": 13,
   "metadata": {},
   "outputs": [
    {
     "name": "stdout",
     "output_type": "stream",
     "text": [
      "Collecting images for up\n",
      "Collecting image 0\n",
      "Collecting image 1\n",
      "Collecting image 2\n",
      "Collecting image 3\n",
      "Collecting image 4\n",
      "Collecting images for down\n",
      "Collecting image 0\n",
      "Collecting image 1\n",
      "Collecting image 2\n",
      "Collecting image 3\n",
      "Collecting image 4\n",
      "Collecting images for left\n",
      "Collecting image 0\n",
      "Collecting image 1\n",
      "Collecting image 2\n",
      "Collecting image 3\n",
      "Collecting image 4\n",
      "Collecting images for right\n",
      "Collecting image 0\n",
      "Collecting image 1\n",
      "Collecting image 2\n",
      "Collecting image 3\n",
      "Collecting image 4\n"
     ]
    }
   ],
   "source": [
    "for label in labels:\n",
    "    cap = cv2.VideoCapture(0)\n",
    "    print('Collecting images for {}'.format(label))\n",
    "    time.sleep(5)\n",
    "    for imgnum in range(number_imgs):\n",
    "        print('Collecting image {}'.format(imgnum))\n",
    "        ret, frame = cap.read()\n",
    "        imgname = os.path.join(IMAGES_PATH,label,label+'.'+'{}.jpg'.format(str(uuid.uuid1())))\n",
    "        cv2.imwrite(imgname, frame)\n",
    "        cv2.imshow('frame', frame)\n",
    "        time.sleep(2)\n",
    "\n",
    "        if cv2.waitKey(1) & 0xFF == ord('q'):\n",
    "            break\n",
    "cap.release()\n",
    "cv2.destroyAllWindows()"
   ]
  },
  {
   "cell_type": "markdown",
   "metadata": {},
   "source": [
    "# 5. Image Labelling"
   ]
  },
  {
   "cell_type": "code",
   "execution_count": 14,
   "metadata": {},
   "outputs": [
    {
     "name": "stdout",
     "output_type": "stream",
     "text": [
      "Collecting pyqt5\n",
      "  Downloading PyQt5-5.15.4-cp36.cp37.cp38.cp39-abi3-macosx_10_13_intel.whl (7.0 MB)\n",
      "\u001b[K     |████████████████████████████████| 7.0 MB 2.5 MB/s eta 0:00:01\n",
      "\u001b[?25hRequirement already satisfied: lxml in /Users/hemant./opt/anaconda3/lib/python3.8/site-packages (4.6.3)\n",
      "Collecting PyQt5-sip<13,>=12.8\n",
      "  Downloading PyQt5_sip-12.9.0-cp38-cp38-macosx_10_9_x86_64.whl (63 kB)\n",
      "\u001b[K     |████████████████████████████████| 63 kB 4.9 MB/s eta 0:00:011\n",
      "\u001b[?25hCollecting PyQt5-Qt5>=5.15\n",
      "  Downloading PyQt5_Qt5-5.15.2-py3-none-macosx_10_13_intel.whl (40.5 MB)\n",
      "\u001b[K     |████████████████████████████████| 40.5 MB 773 kB/s eta 0:00:013\n",
      "\u001b[?25hInstalling collected packages: PyQt5-sip, PyQt5-Qt5, pyqt5\n",
      "\u001b[31mERROR: pip's dependency resolver does not currently take into account all the packages that are installed. This behaviour is the source of the following dependency conflicts.\n",
      "spyder 4.2.5 requires pyqtwebengine<5.13, which is not installed.\n",
      "spyder 4.2.5 requires pyqt5<5.13, but you have pyqt5 5.15.4 which is incompatible.\u001b[0m\n",
      "Successfully installed PyQt5-Qt5-5.15.2 PyQt5-sip-12.9.0 pyqt5-5.15.4\n",
      "\u001b[33mWARNING: You are using pip version 21.1.2; however, version 21.1.3 is available.\n",
      "You should consider upgrading via the '/Users/hemant./opt/anaconda3/bin/python -m pip install --upgrade pip' command.\u001b[0m\n"
     ]
    }
   ],
   "source": [
    "!pip install --upgrade pyqt5 lxml"
   ]
  },
  {
   "cell_type": "code",
   "execution_count": 17,
   "metadata": {},
   "outputs": [],
   "source": [
    "LABELIMG_PATH = os.path.join('Tensorflow', 'labeling')"
   ]
  },
  {
   "cell_type": "code",
   "execution_count": 18,
   "metadata": {},
   "outputs": [
    {
     "name": "stdout",
     "output_type": "stream",
     "text": [
      "Cloning into 'Tensorflow/labeling'...\n",
      "remote: Enumerating objects: 1841, done.\u001b[K\n",
      "remote: Counting objects: 100% (82/82), done.\u001b[K\n",
      "remote: Compressing objects: 100% (60/60), done.\u001b[K\n",
      "remote: Total 1841 (delta 32), reused 52 (delta 17), pack-reused 1759\u001b[K\n",
      "Receiving objects: 100% (1841/1841), 232.81 MiB | 2.94 MiB/s, done.\n",
      "Resolving deltas: 100% (1079/1079), done.\n"
     ]
    }
   ],
   "source": [
    "if not os.path.exists(LABELIMG_PATH):\n",
    "    !mkdir {LABELIMG_PATH}\n",
    "    !git clone https://github.com/tzutalin/labelImg {LABELIMG_PATH}"
   ]
  },
  {
   "cell_type": "code",
   "execution_count": 19,
   "metadata": {},
   "outputs": [
    {
     "name": "stdout",
     "output_type": "stream",
     "text": [
      "pyrcc5 -o libs/resources.py resources.qrc\r\n"
     ]
    }
   ],
   "source": [
    "if os.name == 'posix':\n",
    "    !cd {LABELIMG_PATH} && make qt5py3\n",
    "if os.name =='nt':\n",
    "    !cd {LABELIMG_PATH} && pyrcc5 -o libs/resources.py resources.qrc"
   ]
  },
  {
   "cell_type": "code",
   "execution_count": 21,
   "metadata": {},
   "outputs": [
    {
     "name": "stdout",
     "output_type": "stream",
     "text": [
      "Image:/Users/hemant./Desktop/Repository of Projects/Computer_Vision/Object_Detection/MultiClass_Object_Detection/Tensorflow/workspace/images/collectedimages/up/up.ee2fa590-eace-11eb-88a0-1e00e23c2881.jpg -> Annotation:/Users/hemant./Desktop/Repository of Projects/Computer_Vision/Object_Detection/MultiClass_Object_Detection/Tensorflow/workspace/images/collectedimages/up/up.ee2fa590-eace-11eb-88a0-1e00e23c2881.xml\n",
      "Image:/Users/hemant./Desktop/Repository of Projects/Computer_Vision/Object_Detection/MultiClass_Object_Detection/Tensorflow/workspace/images/collectedimages/up/up.e900d1e8-eace-11eb-88a0-1e00e23c2881.jpg -> Annotation:/Users/hemant./Desktop/Repository of Projects/Computer_Vision/Object_Detection/MultiClass_Object_Detection/Tensorflow/workspace/images/collectedimages/up/up.e900d1e8-eace-11eb-88a0-1e00e23c2881.xml\n",
      "Image:/Users/hemant./Desktop/Repository of Projects/Computer_Vision/Object_Detection/MultiClass_Object_Detection/Tensorflow/workspace/images/collectedimages/up/up.ea7374fe-eace-11eb-88a0-1e00e23c2881.jpg -> Annotation:/Users/hemant./Desktop/Repository of Projects/Computer_Vision/Object_Detection/MultiClass_Object_Detection/Tensorflow/workspace/images/collectedimages/up/up.ea7374fe-eace-11eb-88a0-1e00e23c2881.xml\n",
      "Image:/Users/hemant./Desktop/Repository of Projects/Computer_Vision/Object_Detection/MultiClass_Object_Detection/Tensorflow/workspace/images/collectedimages/up/up.ebaf6404-eace-11eb-88a0-1e00e23c2881.jpg -> Annotation:/Users/hemant./Desktop/Repository of Projects/Computer_Vision/Object_Detection/MultiClass_Object_Detection/Tensorflow/workspace/images/collectedimages/up/up.ebaf6404-eace-11eb-88a0-1e00e23c2881.xml\n",
      "Image:/Users/hemant./Desktop/Repository of Projects/Computer_Vision/Object_Detection/MultiClass_Object_Detection/Tensorflow/workspace/images/collectedimages/up/up.ecef0db0-eace-11eb-88a0-1e00e23c2881.jpg -> Annotation:/Users/hemant./Desktop/Repository of Projects/Computer_Vision/Object_Detection/MultiClass_Object_Detection/Tensorflow/workspace/images/collectedimages/up/up.ecef0db0-eace-11eb-88a0-1e00e23c2881.xml\n",
      "Image:/Users/hemant./Desktop/Repository of Projects/Computer_Vision/Object_Detection/MultiClass_Object_Detection/Tensorflow/workspace/images/collectedimages/up/up.ee2fa590-eace-11eb-88a0-1e00e23c2881.jpg -> Annotation:/Users/hemant./Desktop/Repository of Projects/Computer_Vision/Object_Detection/MultiClass_Object_Detection/Tensorflow/workspace/images/collectedimages/up/up.ee2fa590-eace-11eb-88a0-1e00e23c2881.xml\n",
      "Image:/Users/hemant./Desktop/Repository of Projects/Computer_Vision/Object_Detection/MultiClass_Object_Detection/Tensorflow/workspace/images/collectedimages/down/down.f3be7c5c-eace-11eb-88a0-1e00e23c2881.jpg -> Annotation:/Users/hemant./Desktop/Repository of Projects/Computer_Vision/Object_Detection/MultiClass_Object_Detection/Tensorflow/workspace/images/collectedimages/down/down.f3be7c5c-eace-11eb-88a0-1e00e23c2881.xml\n",
      "Image:/Users/hemant./Desktop/Repository of Projects/Computer_Vision/Object_Detection/MultiClass_Object_Detection/Tensorflow/workspace/images/collectedimages/down/down.f4ff74ae-eace-11eb-88a0-1e00e23c2881.jpg -> Annotation:/Users/hemant./Desktop/Repository of Projects/Computer_Vision/Object_Detection/MultiClass_Object_Detection/Tensorflow/workspace/images/collectedimages/down/down.f4ff74ae-eace-11eb-88a0-1e00e23c2881.xml\n",
      "Image:/Users/hemant./Desktop/Repository of Projects/Computer_Vision/Object_Detection/MultiClass_Object_Detection/Tensorflow/workspace/images/collectedimages/down/down.f27f4ede-eace-11eb-88a0-1e00e23c2881.jpg -> Annotation:/Users/hemant./Desktop/Repository of Projects/Computer_Vision/Object_Detection/MultiClass_Object_Detection/Tensorflow/workspace/images/collectedimages/down/down.f27f4ede-eace-11eb-88a0-1e00e23c2881.xml\n",
      "Image:/Users/hemant./Desktop/Repository of Projects/Computer_Vision/Object_Detection/MultiClass_Object_Detection/Tensorflow/workspace/images/collectedimages/down/down.f78005f4-eace-11eb-88a0-1e00e23c2881.jpg -> Annotation:/Users/hemant./Desktop/Repository of Projects/Computer_Vision/Object_Detection/MultiClass_Object_Detection/Tensorflow/workspace/images/collectedimages/down/down.f78005f4-eace-11eb-88a0-1e00e23c2881.xml\n",
      "Image:/Users/hemant./Desktop/Repository of Projects/Computer_Vision/Object_Detection/MultiClass_Object_Detection/Tensorflow/workspace/images/collectedimages/down/down.f6407566-eace-11eb-88a0-1e00e23c2881.jpg -> Annotation:/Users/hemant./Desktop/Repository of Projects/Computer_Vision/Object_Detection/MultiClass_Object_Detection/Tensorflow/workspace/images/collectedimages/down/down.f6407566-eace-11eb-88a0-1e00e23c2881.xml\n",
      "Image:/Users/hemant./Desktop/Repository of Projects/Computer_Vision/Object_Detection/MultiClass_Object_Detection/Tensorflow/workspace/images/collectedimages/left/left.00cae64c-eacf-11eb-88a0-1e00e23c2881.jpg -> Annotation:/Users/hemant./Desktop/Repository of Projects/Computer_Vision/Object_Detection/MultiClass_Object_Detection/Tensorflow/workspace/images/collectedimages/left/left.00cae64c-eacf-11eb-88a0-1e00e23c2881.xml\n",
      "Image:/Users/hemant./Desktop/Repository of Projects/Computer_Vision/Object_Detection/MultiClass_Object_Detection/Tensorflow/workspace/images/collectedimages/left/left.fbcb2134-eace-11eb-88a0-1e00e23c2881.jpg -> Annotation:/Users/hemant./Desktop/Repository of Projects/Computer_Vision/Object_Detection/MultiClass_Object_Detection/Tensorflow/workspace/images/collectedimages/left/left.fbcb2134-eace-11eb-88a0-1e00e23c2881.xml\n",
      "Image:/Users/hemant./Desktop/Repository of Projects/Computer_Vision/Object_Detection/MultiClass_Object_Detection/Tensorflow/workspace/images/collectedimages/left/left.fd0a7f04-eace-11eb-88a0-1e00e23c2881.jpg -> Annotation:/Users/hemant./Desktop/Repository of Projects/Computer_Vision/Object_Detection/MultiClass_Object_Detection/Tensorflow/workspace/images/collectedimages/left/left.fd0a7f04-eace-11eb-88a0-1e00e23c2881.xml\n",
      "Image:/Users/hemant./Desktop/Repository of Projects/Computer_Vision/Object_Detection/MultiClass_Object_Detection/Tensorflow/workspace/images/collectedimages/left/left.fe4b8a0c-eace-11eb-88a0-1e00e23c2881.jpg -> Annotation:/Users/hemant./Desktop/Repository of Projects/Computer_Vision/Object_Detection/MultiClass_Object_Detection/Tensorflow/workspace/images/collectedimages/left/left.fe4b8a0c-eace-11eb-88a0-1e00e23c2881.xml\n",
      "Cancel creation.\n",
      "Image:/Users/hemant./Desktop/Repository of Projects/Computer_Vision/Object_Detection/MultiClass_Object_Detection/Tensorflow/workspace/images/collectedimages/left/left.ff8b169e-eace-11eb-88a0-1e00e23c2881.jpg -> Annotation:/Users/hemant./Desktop/Repository of Projects/Computer_Vision/Object_Detection/MultiClass_Object_Detection/Tensorflow/workspace/images/collectedimages/left/left.ff8b169e-eace-11eb-88a0-1e00e23c2881.xml\n",
      "Image:/Users/hemant./Desktop/Repository of Projects/Computer_Vision/Object_Detection/MultiClass_Object_Detection/Tensorflow/workspace/images/collectedimages/right/right.0a1b39cc-eacf-11eb-88a0-1e00e23c2881.jpg -> Annotation:/Users/hemant./Desktop/Repository of Projects/Computer_Vision/Object_Detection/MultiClass_Object_Detection/Tensorflow/workspace/images/collectedimages/right/right.0a1b39cc-eacf-11eb-88a0-1e00e23c2881.xml\n",
      "Image:/Users/hemant./Desktop/Repository of Projects/Computer_Vision/Object_Detection/MultiClass_Object_Detection/Tensorflow/workspace/images/collectedimages/right/right.08dc4588-eacf-11eb-88a0-1e00e23c2881.jpg -> Annotation:/Users/hemant./Desktop/Repository of Projects/Computer_Vision/Object_Detection/MultiClass_Object_Detection/Tensorflow/workspace/images/collectedimages/right/right.08dc4588-eacf-11eb-88a0-1e00e23c2881.xml\n",
      "Image:/Users/hemant./Desktop/Repository of Projects/Computer_Vision/Object_Detection/MultiClass_Object_Detection/Tensorflow/workspace/images/collectedimages/right/right.051a8194-eacf-11eb-88a0-1e00e23c2881.jpg -> Annotation:/Users/hemant./Desktop/Repository of Projects/Computer_Vision/Object_Detection/MultiClass_Object_Detection/Tensorflow/workspace/images/collectedimages/right/right.051a8194-eacf-11eb-88a0-1e00e23c2881.xml\n",
      "Image:/Users/hemant./Desktop/Repository of Projects/Computer_Vision/Object_Detection/MultiClass_Object_Detection/Tensorflow/workspace/images/collectedimages/right/right.065b8ee0-eacf-11eb-88a0-1e00e23c2881.jpg -> Annotation:/Users/hemant./Desktop/Repository of Projects/Computer_Vision/Object_Detection/MultiClass_Object_Detection/Tensorflow/workspace/images/collectedimages/right/right.065b8ee0-eacf-11eb-88a0-1e00e23c2881.xml\n"
     ]
    },
    {
     "name": "stdout",
     "output_type": "stream",
     "text": [
      "Image:/Users/hemant./Desktop/Repository of Projects/Computer_Vision/Object_Detection/MultiClass_Object_Detection/Tensorflow/workspace/images/collectedimages/right/right.079bfcae-eacf-11eb-88a0-1e00e23c2881.jpg -> Annotation:/Users/hemant./Desktop/Repository of Projects/Computer_Vision/Object_Detection/MultiClass_Object_Detection/Tensorflow/workspace/images/collectedimages/right/right.079bfcae-eacf-11eb-88a0-1e00e23c2881.xml\r\n"
     ]
    }
   ],
   "source": [
    "!cd {LABELIMG_PATH} && python labelImg.py"
   ]
  },
  {
   "cell_type": "markdown",
   "metadata": {},
   "source": [
    "# 6. Move them into a Training and Testing Partition"
   ]
  },
  {
   "cell_type": "markdown",
   "metadata": {},
   "source": [
    "# OPTIONAL - 7. Compress them for Colab Training"
   ]
  },
  {
   "cell_type": "code",
   "execution_count": 4,
   "metadata": {},
   "outputs": [],
   "source": [
    "TRAIN_PATH = os.path.join('Tensorflow', 'workspace', 'images', 'collectedimages')\n",
    "#TEST_PATH = os.path.join('Tensorflow', 'workspace', 'images', 'test')\n",
    "ARCHIVE_PATH = os.path.join('Tensorflow', 'workspace', 'images', 'archive.tar.gz')"
   ]
  },
  {
   "cell_type": "code",
   "execution_count": 5,
   "metadata": {},
   "outputs": [
    {
     "name": "stdout",
     "output_type": "stream",
     "text": [
      "tar: {TRAIN_PATH}#: Cannot stat: No such file or directory\r\n",
      "tar: {TEST_PATH}: Cannot stat: No such file or directory\r\n",
      "tar: Error exit delayed from previous errors.\r\n"
     ]
    }
   ],
   "source": [
    "!tar -czf {ARCHIVE_PATH} {TRAIN_PATH}# {TEST_PATH}"
   ]
  },
  {
   "cell_type": "code",
   "execution_count": null,
   "metadata": {},
   "outputs": [],
   "source": []
  }
 ],
 "metadata": {
  "kernelspec": {
   "display_name": "tfod",
   "language": "python",
   "name": "tfod"
  },
  "language_info": {
   "codemirror_mode": {
    "name": "ipython",
    "version": 3
   },
   "file_extension": ".py",
   "mimetype": "text/x-python",
   "name": "python",
   "nbconvert_exporter": "python",
   "pygments_lexer": "ipython3",
   "version": "3.8.10"
  }
 },
 "nbformat": 4,
 "nbformat_minor": 2
}
